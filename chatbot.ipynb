{
  "cells": [
    {
      "cell_type": "markdown",
      "metadata": {
        "id": "view-in-github",
        "colab_type": "text"
      },
      "source": [
        "<a href=\"https://colab.research.google.com/github/Nkybahibey/Chatbot/blob/main/chatbot.ipynb\" target=\"_parent\"><img src=\"https://colab.research.google.com/assets/colab-badge.svg\" alt=\"Open In Colab\"/></a>"
      ]
    },
    {
      "cell_type": "code",
      "execution_count": null,
      "metadata": {
        "colab": {
          "base_uri": "https://localhost:8080/"
        },
        "id": "seTt7B8tfXWu",
        "outputId": "90201c09-a8b5-48e4-ddf7-c67fa51ecc23"
      },
      "outputs": [
        {
          "name": "stdout",
          "output_type": "stream",
          "text": [
            "Requirement already satisfied: nltk in /usr/local/lib/python3.11/dist-packages (3.9.1)\n",
            "Requirement already satisfied: click in /usr/local/lib/python3.11/dist-packages (from nltk) (8.1.8)\n",
            "Requirement already satisfied: joblib in /usr/local/lib/python3.11/dist-packages (from nltk) (1.4.2)\n",
            "Requirement already satisfied: regex>=2021.8.3 in /usr/local/lib/python3.11/dist-packages (from nltk) (2024.11.6)\n",
            "Requirement already satisfied: tqdm in /usr/local/lib/python3.11/dist-packages (from nltk) (4.67.1)\n"
          ]
        }
      ],
      "source": [
        "pip install nltk"
      ]
    },
    {
      "cell_type": "code",
      "execution_count": null,
      "metadata": {
        "id": "A0aqyBvHfrxl"
      },
      "outputs": [],
      "source": [
        "import nltk\n",
        "from nltk.chat.util import Chat, reflections"
      ]
    },
    {
      "cell_type": "code",
      "execution_count": null,
      "metadata": {
        "id": "DZunFDZ0gs7h"
      },
      "outputs": [],
      "source": [
        "#define pairs of responses\n",
        "pairs =[\n",
        "    [\n",
        "        r'Hello|Hi|hey',\n",
        "['Hello!, This is a chatbot created for orestyles.ng. How can i help you?']\n",
        "    ],\n",
        "    [\n",
        "        r'What is your name? and can you recommend styles for my covocation ceremony coming up?',\n",
        "    ['You can call me your fashion Bestie! and ofcourse i can!']\n",
        "    ],\n",
        "    [\n",
        "      r'What else can you do?',\n",
        "        ['I can give you tips on how to take your measurements and will save it in our database and recommend our top sellers!']\n",
        "    ],\n",
        "    [\n",
        "      r'quit|chatlater|id get back to you soon',\n",
        "        ['Bye! Take care! Thank you for choosing orestyles!']\n",
        "    ],\n",
        "]"
      ]
    },
    {
      "cell_type": "code",
      "execution_count": null,
      "metadata": {
        "id": "TIERludso2oj"
      },
      "outputs": [],
      "source": [
        "def chatbot():\n",
        "   print(\"Hello! i am your online fashion bestie for orestyles. Type 'quit' to exit.\")\n",
        "   chat = Chat(pairs, reflections)\n",
        "   chat.converse()"
      ]
    },
    {
      "cell_type": "code",
      "execution_count": null,
      "metadata": {
        "colab": {
          "background_save": true,
          "base_uri": "https://localhost:8080/"
        },
        "id": "6n1Y4Uspq0Zj",
        "outputId": "c523959e-7834-4eae-973a-4eea92fb190d"
      },
      "outputs": [
        {
          "name": "stdout",
          "output_type": "stream",
          "text": [
            "Hello! i am your online fashion bestie for orestyles. Type 'quit' to exit.\n"
          ]
        }
      ],
      "source": [
        "if __name__ == \"__main__\":\n",
        "   chatbot()"
      ]
    }
  ],
  "metadata": {
    "colab": {
      "provenance": [],
      "authorship_tag": "ABX9TyNLgT/SOQUvBD7vd/IWGxA5",
      "include_colab_link": true
    },
    "kernelspec": {
      "display_name": "Python 3",
      "name": "python3"
    },
    "language_info": {
      "name": "python"
    }
  },
  "nbformat": 4,
  "nbformat_minor": 0
}